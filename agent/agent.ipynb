{
 "cells": [
  {
   "cell_type": "markdown",
   "id": "674ad4f8",
   "metadata": {},
   "source": [
    "### Basic imports and setting up OpenAI and Tavily integration\n"
   ]
  },
  {
   "cell_type": "code",
   "execution_count": 1,
   "id": "b1f087ac",
   "metadata": {},
   "outputs": [],
   "source": [
    "import os\n",
    "from langchain_openai import ChatOpenAI\n",
    "from dotenv import load_dotenv\n",
    "\n",
    "load_dotenv()\n",
    "llm = ChatOpenAI(\n",
    "    model_name=\"gpt-4o-mini\",\n",
    "    openai_api_key=os.environ['OPENAI_API_KEY_TEG'],\n",
    "    temperature=0,\n",
    ")\n"
   ]
  },
  {
   "cell_type": "markdown",
   "id": "89f8a091",
   "metadata": {},
   "source": [
    "### Moj własny tool\n"
   ]
  },
  {
   "cell_type": "code",
   "execution_count": 2,
   "id": "c8bdb912",
   "metadata": {},
   "outputs": [],
   "source": [
    "from langchain.tools import Tool\n",
    "\n",
    "def calculate_loss(time_lost_hours, avg_salary_per_hour):\n",
    "    return time_lost_hours * avg_salary_per_hour\n",
    "\n",
    "agent2_tools = [\n",
    "    Tool.from_function(\n",
    "        func=calculate_loss,\n",
    "        name=\"CalculateTimeLoss\",\n",
    "        description=\"Calculates company loss due to wasted time on social media. Inputs: time in hours, average hourly salary.\"\n",
    "    )\n",
    "]\n"
   ]
  },
  {
   "cell_type": "markdown",
   "id": "dc4da3b7",
   "metadata": {},
   "source": [
    "### Definicja Tools"
   ]
  },
  {
   "cell_type": "code",
   "execution_count": null,
   "id": "80e78c3e",
   "metadata": {},
   "outputs": [],
   "source": [
    "from langchain_community.utilities.sql_database import SQLDatabase\n",
    "from langchain.agents.agent_toolkits import SQLDatabaseToolkit\n",
    "from langchain.tools.tavily_search import TavilySearchResults\n",
    "import os\n",
    "from dotenv import load_dotenv\n",
    "load_dotenv()\n",
    "\n",
    "db_path = r\"C:\\PJATK\\SEMESTR2\\teg projekt\\projekt\\Logi-projektTEG\\parser\\logs.db\"\n",
    "\n",
    "sql_db = SQLDatabase.from_uri(f\"sqlite:///{db_path}\")\n",
    "sql_toolkit = SQLDatabaseToolkit(db=sql_db, llm=llm)  \n",
    "agent1_tools = sql_toolkit.get_tools()\n",
    "tavily = TavilySearchResults(max_results=5)\n",
    "\n",
    "\n",
    "tools = agent1_tools + [tavily] + agent2_tools"
   ]
  },
  {
   "cell_type": "markdown",
   "id": "ec91cc36",
   "metadata": {},
   "source": [
    "### Defining the prompts for each agent role"
   ]
  },
  {
   "cell_type": "code",
   "execution_count": 15,
   "id": "120b27ab",
   "metadata": {},
   "outputs": [],
   "source": [
    "search_template = \"\"\"\n",
    "                  Your job is to translate the following user question into an accurate SQL query based on the given table schema.\n",
    "                  Identify the most relevant columns for answering the query.\n",
    "                  Execute the SQL query and return the result.\n",
    "                  Not permit risky SQL generation (e.g., DROP, DELETE) \n",
    "                  \"\"\"\n",
    "value_template = \"\"\"Your job is to Calculate the financial loss caused by employees spending time on social media.\n",
    "\n",
    "                    Return the estimated total cost of productivity loss.\n",
    "                    Multiply total time lost (in hours) by the average monthly IT salary.\n",
    "                    Your feedback should be in bullet point format only.\n",
    "                    \"\"\"\n",
    "exchange_template = \"\"\"Convert the total company losses into multiple currencies and assets: USD, EUR, GBP, BTC, XAU (gold).\n",
    "                        Use the latest exchange rates for accurate conversion.\n",
    "                        Return the result in a tabular format.\n",
    "                    \"\"\""
   ]
  },
  {
   "cell_type": "markdown",
   "id": "924e3778",
   "metadata": {},
   "source": [
    "### Constructing the graph"
   ]
  },
  {
   "cell_type": "code",
   "execution_count": 16,
   "id": "2678c1eb",
   "metadata": {},
   "outputs": [],
   "source": [
    "from langchain_core.prompts import ChatPromptTemplate, MessagesPlaceholder\n",
    "\n",
    "# Define method for creating agents and binding them to the tools\n",
    "def create_agent(llm, tools, system_message: str):\n",
    "    \"\"\"Create an agent.\"\"\"\n",
    "    prompt = ChatPromptTemplate.from_messages(\n",
    "        [\n",
    "            (\n",
    "                \"system\",\n",
    "                \"{system_message}\",\n",
    "            ),\n",
    "            MessagesPlaceholder(variable_name=\"messages\"),\n",
    "        ]\n",
    "    )\n",
    "    prompt = prompt.partial(system_message=system_message)\n",
    "    \n",
    "    if tools:\n",
    "      return prompt | llm.bind_tools(tools)\n",
    "    else:\n",
    "      return prompt | llm\n",
    "    \n",
    "search_agent = create_agent(\n",
    "    llm,\n",
    "    tools,\n",
    "    system_message=search_template,\n",
    ")\n",
    "\n",
    "value_agent = create_agent(\n",
    "    llm,\n",
    "    tools,\n",
    "    system_message=value_template,\n",
    ")\n",
    "\n",
    "exchange_agent = create_agent(\n",
    "    llm,\n",
    "    tools,\n",
    "    system_message=value_template,\n",
    ")"
   ]
  },
  {
   "cell_type": "code",
   "execution_count": 18,
   "id": "22d7be23",
   "metadata": {},
   "outputs": [],
   "source": [
    "import functools\n",
    "\n",
    "def agent_node(state, agent, name):\n",
    "  result = agent.invoke(state)\n",
    "  return {\n",
    "      'messages': [result]\n",
    "  }\n",
    "\n",
    "search_node = functools.partial(agent_node, agent=search_agent, name=\"Search Agent\")\n",
    "value_node = functools.partial(agent_node, agent=value_agent, name=\"Value Agent\")\n",
    "exchange_node = functools.partial(agent_node, agent=exchange_agent, name=\"Exchange Agent\")\n",
    "\n"
   ]
  },
  {
   "cell_type": "code",
   "execution_count": null,
   "id": "bacd6551",
   "metadata": {},
   "outputs": [],
   "source": [
    "from langgraph.graph import StateGraph, END\n",
    "from typing import TypedDict, List, Literal\n",
    "from langchain_core.messages import AIMessage\n",
    "\n",
    "MAX_ITERATIONS = 3  # na wszelki wypadek, choć niepotrzebne w tym konkretnym grafie\n",
    "\n",
    "# 1. Definiujemy strukturę stanu\n",
    "class AgentState(TypedDict):\n",
    "    messages: List[BaseMessage]\n",
    "    is_time_response: bool\n",
    "\n",
    "# Funkcja decyzyjna\n",
    "def check_if_time_response(state: AgentState) -> Literal[\"time_agent\", \"other_agent\"]:\n",
    "    content = state[\"messages\"][-1].content.lower()\n",
    "    if \"time\" in content or \"response time\" in content:\n",
    "        return \"time_agent\"\n",
    "    return \"other_agent\"\n",
    "\n",
    "# Aktualizacja stanu\n",
    "def update_state_with_time_flag(state: AgentState) -> AgentState:\n",
    "    content = state[\"messages\"][-1].content.lower()\n",
    "    state[\"is_time_response\"] = \"time\" in content or \"response time\" in content\n",
    "    return state\n",
    "\n",
    "# 3. Funkcja końcowa: odpowiedź językiem naturalnym\n",
    "def natural_language_answer(state: AgentState) -> AgentState:\n",
    "    return {\n",
    "        \"messages\": state[\"messages\"] + [AIMessage(content=\"Answer in natural language to the prompt\")],\n",
    "        \"answer_in_time\": False\n",
    "    }\n"
   ]
  },
  {
   "cell_type": "code",
   "execution_count": null,
   "id": "88486676",
   "metadata": {},
   "outputs": [
    {
     "ename": "TypeError",
     "evalue": "StateGraph.__init__() got an unexpected keyword argument 'max_iterations'",
     "output_type": "error",
     "traceback": [
      "\u001b[31m---------------------------------------------------------------------------\u001b[39m",
      "\u001b[31mTypeError\u001b[39m                                 Traceback (most recent call last)",
      "\u001b[36mCell\u001b[39m\u001b[36m \u001b[39m\u001b[32mIn[36]\u001b[39m\u001b[32m, line 15\u001b[39m\n\u001b[32m     12\u001b[39m     \u001b[38;5;28;01mreturn\u001b[39;00m natural_language_answer(state)\n\u001b[32m     14\u001b[39m \u001b[38;5;66;03m# Tworzymy graf\u001b[39;00m\n\u001b[32m---> \u001b[39m\u001b[32m15\u001b[39m graph = \u001b[43mStateGraph\u001b[49m\u001b[43m(\u001b[49m\u001b[43mmax_iterations\u001b[49m\u001b[43m=\u001b[49m\u001b[43mMAX_ITERATIONS\u001b[49m\u001b[43m)\u001b[49m\n\u001b[32m     17\u001b[39m \u001b[38;5;66;03m# Dodajemy węzły\u001b[39;00m\n\u001b[32m     18\u001b[39m graph.add_node(\u001b[33m\"\u001b[39m\u001b[33msearch_node\u001b[39m\u001b[33m\"\u001b[39m, search_node)\n",
      "\u001b[31mTypeError\u001b[39m: StateGraph.__init__() got an unexpected keyword argument 'max_iterations'"
     ]
    }
   ],
   "source": [
    "\n",
    "from langgraph.graph import StateGraph, END\n",
    "\n",
    "# Definicja węzłów (node functions)\n",
    "def update_state_node(state: AgentState) -> AgentState:\n",
    "    return update_state_with_time_flag(state)\n",
    "\n",
    "# Węzły agentów (już zdefiniowane wcześniej)\n",
    "# search_node, value_node, exchange_node\n",
    "\n",
    "# Węzeł końcowy: naturalna odpowiedź\n",
    "def final_answer_node(state: AgentState) -> AgentState:\n",
    "    return natural_language_answer(state)\n",
    "\n",
    "# Tworzymy graf\n",
    "graph = StateGraph()\n",
    "\n",
    "# Dodajemy węzły\n",
    "graph.add_node(\"search_node\", search_node)\n",
    "graph.add_node(\"update_state\", update_state_node)\n",
    "graph.add_node(\"check_time\", check_if_time_response)\n",
    "graph.add_node(\"value_node\", value_node)\n",
    "graph.add_node(\"exchange_node\", exchange_node)\n",
    "graph.add_node(\"final_answer\", final_answer_node)\n",
    "graph.add_node(END)\n",
    "\n",
    "# Krawędzie\n",
    "graph.add_edge(\"search_node\", \"update_state\")\n",
    "graph.add_edge(\"update_state\", \"check_time\")\n",
    "graph.add_edge(\"check_time\", \"value_node\", condition=\"time_agent\")\n",
    "graph.add_edge(\"check_time\", \"exchange_node\", condition=\"other_agent\")\n",
    "graph.add_edge(\"value_node\", \"final_answer\")\n",
    "graph.add_edge(\"exchange_node\", \"final_answer\")\n",
    "graph.add_edge(\"final_answer\", END)\n",
    "\n",
    "# Stan początkowy\n",
    "initial_state = {\"messages\": [], \"is_time_response\": False}\n",
    "\n",
    "# Uruchomienie grafu\n",
    "final_state = graph.run(initial_state)\n",
    "\n",
    "# Wyświetlanie wyniku\n",
    "print(final_state)"
   ]
  }
 ],
 "metadata": {
  "kernelspec": {
   "display_name": "venv",
   "language": "python",
   "name": "python3"
  },
  "language_info": {
   "codemirror_mode": {
    "name": "ipython",
    "version": 3
   },
   "file_extension": ".py",
   "mimetype": "text/x-python",
   "name": "python",
   "nbconvert_exporter": "python",
   "pygments_lexer": "ipython3",
   "version": "3.11.0"
  }
 },
 "nbformat": 4,
 "nbformat_minor": 5
}
