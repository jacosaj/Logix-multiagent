{
 "cells": [
  {
   "cell_type": "markdown",
   "id": "674ad4f8",
   "metadata": {},
   "source": [
    "### Basic imports and setting up OpenAI and Tavily integration\n"
   ]
  },
  {
   "cell_type": "code",
   "execution_count": null,
   "id": "b1f087ac",
   "metadata": {},
   "outputs": [],
   "source": [
    "import os\n",
    "from langchain_openai import ChatOpenAI\n",
    "from dotenv import load_dotenv\n",
    "\n",
    "\n",
    "load_dotenv()\n",
    "llm = ChatOpenAI(\n",
    "    model_name=\"gpt-4o-mini\",\n",
    "    openai_api_key=os.environ['OPENAI_API_KEY_TEG'],\n",
    "    temperature=0,\n",
    ")\n"
   ]
  },
  {
   "cell_type": "markdown",
   "id": "89f8a091",
   "metadata": {},
   "source": [
    "### Moj własny tool\n"
   ]
  },
  {
   "cell_type": "code",
   "execution_count": 9,
   "id": "c8bdb912",
   "metadata": {},
   "outputs": [],
   "source": [
    "from langchain.tools import Tool\n",
    "\n",
    "def calculate_loss(time_lost_hours, avg_salary_per_hour):\n",
    "    return time_lost_hours * avg_salary_per_hour\n",
    "\n",
    "agent2_tools = [\n",
    "    Tool.from_function(\n",
    "        func=calculate_loss,\n",
    "        name=\"CalculateTimeLoss\",\n",
    "        description=\"Calculates company loss due to wasted time on social media. Inputs: time in seconds, average hourly salary is 50 PLN.\"\n",
    "    )\n",
    "]\n"
   ]
  },
  {
   "cell_type": "markdown",
   "id": "dc4da3b7",
   "metadata": {},
   "source": [
    "### Definicja Tools"
   ]
  },
  {
   "cell_type": "code",
   "execution_count": 13,
   "id": "80e78c3e",
   "metadata": {},
   "outputs": [],
   "source": [
    "from langchain_community.utilities.sql_database import SQLDatabase\n",
    "from langchain.agents.agent_toolkits import SQLDatabaseToolkit\n",
    "from langchain.tools.tavily_search import TavilySearchResults\n",
    "import os   \n",
    "from dotenv import load_dotenv\n",
    "load_dotenv()\n",
    "\n",
    "db_path = r\"/Users/fmpl5278/Desktop/Logi-projektTEG/parser/logs.db\"\n",
    "\n",
    "sql_db = SQLDatabase.from_uri(f\"sqlite:///{db_path}\")\n",
    "sql_toolkit = SQLDatabaseToolkit(db=sql_db, llm=llm)  \n",
    "agent1_tools = sql_toolkit.get_tools()\n",
    "tavily = TavilySearchResults(max_results=5)\n",
    "\n",
    "\n",
    "tools = agent1_tools + [tavily] + agent2_tools"
   ]
  },
  {
   "cell_type": "markdown",
   "id": "ec91cc36",
   "metadata": {},
   "source": [
    "### Defining the prompts for each agent role"
   ]
  },
  {
   "cell_type": "code",
   "execution_count": 14,
   "id": "120b27ab",
   "metadata": {},
   "outputs": [],
   "source": [
    "search_template = \"\"\"\n",
    "                  Your job is to translate the following user question into an accurate SQL query based on the given table schema.\n",
    "                  Identify the most relevant columns for answering the query.\n",
    "                  Execute the SQL query and return the result.\n",
    "                  Not permit risky SQL generation (e.g., DROP, DELETE) \n",
    "                  Duration is the time spent on the app by the user in seconds.\n",
    "                  \"\"\"\n",
    "value_template = \"\"\"Your job is to Calculate the financial loss caused by employees spending time on social media.\n",
    "\n",
    "                    Return the estimated total cost of productivity loss.\n",
    "                    Multiply total time lost (in hours) by the average monthly IT salary.\n",
    "                    Your feedback should be in bullet point format only.\n",
    "                    \"\"\"\n",
    "exchange_template = \"\"\"Convert the total company losses into multiple currencies and assets: USD, EUR, GBP, BTC, XAU (gold).\n",
    "                        Use the latest exchange rates for accurate conversion.\n",
    "                        Return the result in a tabular format.\n",
    "                    \"\"\"\n",
    "\n",
    "natural_language_template = \"\"\"\n",
    "                                You are an assistant that receives raw SQL query results and reformulates them into complete, natural language sentences.\n",
    "\n",
    "                                Instructions:\n",
    "                                - Use the user's original question as context.\n",
    "                                - Rephrase the raw result into a full sentence, clear and natural.\n",
    "                                - Avoid SQL jargon or raw values without explanation.\n",
    "                                - Assume the user is a non-technical employee.\n",
    "\n",
    "                                Example:\n",
    "                                User question: \"Ile akcji ze statusem close było 16.05.2025?\"\n",
    "                                SQL result: 5\n",
    "                                Answer: \"W dniu 16 maja 2025 roku wykonano 5 zamkniętych akcji.\"\n",
    "                                \"\"\"\n"
   ]
  },
  {
   "cell_type": "markdown",
   "id": "924e3778",
   "metadata": {},
   "source": [
    "### Zdefiniowanie Agentow"
   ]
  },
  {
   "cell_type": "code",
   "execution_count": 15,
   "id": "2678c1eb",
   "metadata": {},
   "outputs": [],
   "source": [
    "from langchain_core.prompts import ChatPromptTemplate, MessagesPlaceholder\n",
    "\n",
    "# Define method for creating agents and binding them to the tools\n",
    "def create_agent(llm, tools, system_message: str):\n",
    "    \"\"\"Create an agent.\"\"\"\n",
    "    prompt = ChatPromptTemplate.from_messages(\n",
    "        [\n",
    "            (\n",
    "                \"system\",\n",
    "                \"{system_message}\",\n",
    "            ),\n",
    "            MessagesPlaceholder(variable_name=\"messages\"),\n",
    "        ]\n",
    "    )\n",
    "    prompt = prompt.partial(system_message=system_message)\n",
    "    \n",
    "    if tools:\n",
    "      return prompt | llm.bind_tools(tools)\n",
    "    else:\n",
    "      return prompt | llm\n",
    "    \n",
    "search_agent = create_agent(\n",
    "    llm,\n",
    "    tools,\n",
    "    system_message=search_template,\n",
    ")\n",
    "\n",
    "value_agent = create_agent(\n",
    "    llm,\n",
    "    tools,\n",
    "    system_message=value_template,\n",
    ")\n",
    "\n",
    "exchange_agent = create_agent(\n",
    "    llm,\n",
    "    tools,\n",
    "    system_message=value_template,\n",
    ")\n",
    "\n",
    "# Agent języka naturalnego\n",
    "natural_agent = create_agent(\n",
    "    llm,\n",
    "    tools=[],  # bez narzędzi – tylko przetwarza dane\n",
    "    system_message=natural_language_template,\n",
    ")\n"
   ]
  },
  {
   "cell_type": "code",
   "execution_count": 19,
   "id": "22d7be23",
   "metadata": {},
   "outputs": [],
   "source": [
    "import functools\n",
    "\n",
    "\n",
    "def agent_node(state, agent, name):\n",
    "    print(f\"[DEBUG] Running agent: {name}\")\n",
    "    print(f\"[DEBUG] Input messages: {[msg.content for msg in state['messages']]}\")\n",
    "\n",
    "    result = agent.invoke(state)\n",
    "    \n",
    "    # Zabezpieczenie na wypadek, gdyby wynik nie był wiadomością\n",
    "    if hasattr(result, \"content\"):\n",
    "        print(f\"[DEBUG] Output from {name}: {result.content}\")\n",
    "    else:\n",
    "        print(f\"[DEBUG] Output from {name}: {result}\")\n",
    "    \n",
    "    return {\n",
    "        \"messages\": state[\"messages\"] + [result],\n",
    "        \"no_of_iterations\": state[\"no_of_iterations\"] + 1\n",
    "    }\n",
    "\n",
    "search_node = functools.partial(agent_node, agent=search_agent, name=\"Search Agent\")\n",
    "value_node = functools.partial(agent_node, agent=value_agent, name=\"Value Agent\")\n",
    "exchange_node = functools.partial(agent_node, agent=exchange_agent, name=\"Exchange Agent\")\n",
    "#test\n",
    "natural_response_node = functools.partial(agent_node, agent=natural_agent, name=\"Natural Language Agent\")\n",
    "\n",
    "\n"
   ]
  },
  {
   "cell_type": "markdown",
   "id": "e6af75a3",
   "metadata": {},
   "source": [
    "### Funkcje w grafie\n"
   ]
  },
  {
   "cell_type": "code",
   "execution_count": 24,
   "id": "0b422e4c",
   "metadata": {},
   "outputs": [],
   "source": [
    "from typing import Annotated, Literal, TypedDict\n",
    "from langgraph.graph import END, StateGraph\n",
    "from langgraph.graph.message import add_messages\n",
    "\n",
    "class AgentState(TypedDict):\n",
    "  messages: Annotated[list, add_messages]\n",
    "  no_of_iterations: int\n",
    "\n",
    "# 1. funkcja\n",
    "def check_time_node(state) -> AgentState:\n",
    "    next_path = check_if_answer_about_time(state)  \n",
    "    return {\n",
    "        **state,\n",
    "        \"next_path\": next_path\n",
    "    }\n",
    "\n",
    "# 2. Funkcja decyzji: czy odpowiedź zawiera czas\n",
    "def check_if_answer_about_time(state) -> Literal[\"value\", \"natural_response\"]:\n",
    "    content = state[\"messages\"][-1].content.lower()\n",
    "    \n",
    "    if (\"time\" in content or\n",
    "        \"spent\" in content and \"hours\" in content or\n",
    "        \"second\" in content or\n",
    "        \"seconds\" in content):\n",
    "        return \"value\" # odpowiedź zawiera info o czasie\n",
    "    return \"natural_response\"  # odpowiedź nie zawiera info o czasie\n",
    "\n",
    "# 3. Funkcja końcowa: odpowiedź językiem naturalnym\n",
    "def natural_language_answer(state) -> AgentState:\n",
    "    return {\n",
    "        \"messages\": state[\"messages\"] + [AIMessage(content=\"Answer in natural language to the prompt\")],\n",
    "        \"no_of_iterations\": state[\"no_of_iterations\"]\n",
    "    }\n"
   ]
  },
  {
   "cell_type": "markdown",
   "id": "a107c52e",
   "metadata": {},
   "source": [
    "### GRAF - WYŚWIETLANIE\n"
   ]
  },
  {
   "cell_type": "code",
   "execution_count": 29,
   "id": "88486676",
   "metadata": {},
   "outputs": [
    {
     "ename": "ValueError",
     "evalue": "At 'check_time' node, 'condition' branch found unknown target 'natural'",
     "output_type": "error",
     "traceback": [
      "\u001b[31m---------------------------------------------------------------------------\u001b[39m",
      "\u001b[31mValueError\u001b[39m                                Traceback (most recent call last)",
      "\u001b[36mCell\u001b[39m\u001b[36m \u001b[39m\u001b[32mIn[29]\u001b[39m\u001b[32m, line 39\u001b[39m\n\u001b[32m     34\u001b[39m workflow.add_edge(\u001b[33m\"\u001b[39m\u001b[33mnatural_response\u001b[39m\u001b[33m\"\u001b[39m, END)\n\u001b[32m     35\u001b[39m workflow.add_edge(\u001b[33m\"\u001b[39m\u001b[33mexchange\u001b[39m\u001b[33m\"\u001b[39m, END)\n\u001b[32m---> \u001b[39m\u001b[32m39\u001b[39m graph = \u001b[43mworkflow\u001b[49m\u001b[43m.\u001b[49m\u001b[43mcompile\u001b[49m\u001b[43m(\u001b[49m\u001b[43m)\u001b[49m\n\u001b[32m     41\u001b[39m \u001b[38;5;28;01mfrom\u001b[39;00m \u001b[34;01mIPython\u001b[39;00m\u001b[34;01m.\u001b[39;00m\u001b[34;01mdisplay\u001b[39;00m \u001b[38;5;28;01mimport\u001b[39;00m Image, display\n\u001b[32m     42\u001b[39m \u001b[38;5;28;01mfrom\u001b[39;00m \u001b[34;01mlangchain_core\u001b[39;00m\u001b[34;01m.\u001b[39;00m\u001b[34;01mrunnables\u001b[39;00m\u001b[34;01m.\u001b[39;00m\u001b[34;01mgraph\u001b[39;00m \u001b[38;5;28;01mimport\u001b[39;00m MermaidDrawMethod\n",
      "\u001b[36mFile \u001b[39m\u001b[32m~/Library/Python/3.11/lib/python/site-packages/langgraph/graph/state.py:613\u001b[39m, in \u001b[36mStateGraph.compile\u001b[39m\u001b[34m(self, checkpointer, cache, store, interrupt_before, interrupt_after, debug, name)\u001b[39m\n\u001b[32m    610\u001b[39m interrupt_after = interrupt_after \u001b[38;5;129;01mor\u001b[39;00m []\n\u001b[32m    612\u001b[39m \u001b[38;5;66;03m# validate the graph\u001b[39;00m\n\u001b[32m--> \u001b[39m\u001b[32m613\u001b[39m \u001b[38;5;28;43mself\u001b[39;49m\u001b[43m.\u001b[49m\u001b[43mvalidate\u001b[49m\u001b[43m(\u001b[49m\n\u001b[32m    614\u001b[39m \u001b[43m    \u001b[49m\u001b[43minterrupt\u001b[49m\u001b[43m=\u001b[49m\u001b[43m(\u001b[49m\n\u001b[32m    615\u001b[39m \u001b[43m        \u001b[49m\u001b[43m(\u001b[49m\u001b[43minterrupt_before\u001b[49m\u001b[43m \u001b[49m\u001b[38;5;28;43;01mif\u001b[39;49;00m\u001b[43m \u001b[49m\u001b[43minterrupt_before\u001b[49m\u001b[43m \u001b[49m\u001b[43m!=\u001b[49m\u001b[43m \u001b[49m\u001b[33;43m\"\u001b[39;49m\u001b[33;43m*\u001b[39;49m\u001b[33;43m\"\u001b[39;49m\u001b[43m \u001b[49m\u001b[38;5;28;43;01melse\u001b[39;49;00m\u001b[43m \u001b[49m\u001b[43m[\u001b[49m\u001b[43m]\u001b[49m\u001b[43m)\u001b[49m\u001b[43m \u001b[49m\u001b[43m+\u001b[49m\u001b[43m \u001b[49m\u001b[43minterrupt_after\u001b[49m\n\u001b[32m    616\u001b[39m \u001b[43m        \u001b[49m\u001b[38;5;28;43;01mif\u001b[39;49;00m\u001b[43m \u001b[49m\u001b[43minterrupt_after\u001b[49m\u001b[43m \u001b[49m\u001b[43m!=\u001b[49m\u001b[43m \u001b[49m\u001b[33;43m\"\u001b[39;49m\u001b[33;43m*\u001b[39;49m\u001b[33;43m\"\u001b[39;49m\n\u001b[32m    617\u001b[39m \u001b[43m        \u001b[49m\u001b[38;5;28;43;01melse\u001b[39;49;00m\u001b[43m \u001b[49m\u001b[43m[\u001b[49m\u001b[43m]\u001b[49m\n\u001b[32m    618\u001b[39m \u001b[43m    \u001b[49m\u001b[43m)\u001b[49m\n\u001b[32m    619\u001b[39m \u001b[43m\u001b[49m\u001b[43m)\u001b[49m\n\u001b[32m    621\u001b[39m \u001b[38;5;66;03m# prepare output channels\u001b[39;00m\n\u001b[32m    622\u001b[39m output_channels = (\n\u001b[32m    623\u001b[39m     \u001b[33m\"\u001b[39m\u001b[33m__root__\u001b[39m\u001b[33m\"\u001b[39m\n\u001b[32m    624\u001b[39m     \u001b[38;5;28;01mif\u001b[39;00m \u001b[38;5;28mlen\u001b[39m(\u001b[38;5;28mself\u001b[39m.schemas[\u001b[38;5;28mself\u001b[39m.output]) == \u001b[32m1\u001b[39m\n\u001b[32m   (...)\u001b[39m\u001b[32m    630\u001b[39m     ]\n\u001b[32m    631\u001b[39m )\n",
      "\u001b[36mFile \u001b[39m\u001b[32m~/Library/Python/3.11/lib/python/site-packages/langgraph/graph/graph.py:290\u001b[39m, in \u001b[36mGraph.validate\u001b[39m\u001b[34m(self, interrupt)\u001b[39m\n\u001b[32m    288\u001b[39m     \u001b[38;5;28;01mfor\u001b[39;00m end \u001b[38;5;129;01min\u001b[39;00m branch.ends.values():\n\u001b[32m    289\u001b[39m         \u001b[38;5;28;01mif\u001b[39;00m end \u001b[38;5;129;01mnot\u001b[39;00m \u001b[38;5;129;01min\u001b[39;00m \u001b[38;5;28mself\u001b[39m.nodes \u001b[38;5;129;01mand\u001b[39;00m end != END:\n\u001b[32m--> \u001b[39m\u001b[32m290\u001b[39m             \u001b[38;5;28;01mraise\u001b[39;00m \u001b[38;5;167;01mValueError\u001b[39;00m(\n\u001b[32m    291\u001b[39m                 \u001b[33mf\u001b[39m\u001b[33m\"\u001b[39m\u001b[33mAt \u001b[39m\u001b[33m'\u001b[39m\u001b[38;5;132;01m{\u001b[39;00mstart\u001b[38;5;132;01m}\u001b[39;00m\u001b[33m'\u001b[39m\u001b[33m node, \u001b[39m\u001b[33m'\u001b[39m\u001b[38;5;132;01m{\u001b[39;00mcond\u001b[38;5;132;01m}\u001b[39;00m\u001b[33m'\u001b[39m\u001b[33m branch found unknown target \u001b[39m\u001b[33m'\u001b[39m\u001b[38;5;132;01m{\u001b[39;00mend\u001b[38;5;132;01m}\u001b[39;00m\u001b[33m'\u001b[39m\u001b[33m\"\u001b[39m\n\u001b[32m    292\u001b[39m             )\n\u001b[32m    293\u001b[39m         all_targets.add(end)\n\u001b[32m    294\u001b[39m \u001b[38;5;28;01melse\u001b[39;00m:\n",
      "\u001b[31mValueError\u001b[39m: At 'check_time' node, 'condition' branch found unknown target 'natural'"
     ]
    }
   ],
   "source": [
    "from langgraph.prebuilt import ToolNode\n",
    "from langgraph.graph.message import add_messages\n",
    "\n",
    "\n",
    "workflow = StateGraph(AgentState)\n",
    "\n",
    "tool_node = ToolNode(tools)\n",
    "\n",
    "# Dodajemy węzły\n",
    "workflow.add_node(\"search\", search_node)\n",
    "workflow.add_node(\"check_time\", check_time_node)\n",
    "workflow.add_node(\"value\", value_node)\n",
    "workflow.add_node(\"exchange\", exchange_node)\n",
    "#------------------------------#------------------------------#------------------------------#------------------------------\n",
    "workflow.add_node(\"natural_response\", natural_response_node)\n",
    "#------------------------------#------------------------------#------------------------------#------------------------------\n",
    "\n",
    "# Set the entrypoint as `search`\n",
    "# This means that this node is the first one called\n",
    "workflow.set_entry_point(\"search\")\n",
    "workflow.add_edge(\"search\", \"natural_response\")\n",
    "workflow.add_edge(\"natural_response\", \"check_time\")\n",
    "\n",
    "workflow.add_conditional_edges(\n",
    "    \"check_time\",\n",
    "    lambda state: state[\"next_path\"],  # warunek to teraz wartość z dict\n",
    "    {\n",
    "        \"value\": \"value\",\n",
    "        \"natural\": \"natural\"\n",
    "    }\n",
    ")\n",
    "\n",
    "workflow.add_edge(\"value\", \"exchange\")\n",
    "workflow.add_edge(\"natural_response\", END)\n",
    "workflow.add_edge(\"exchange\", END)\n",
    "\n",
    "\n",
    "\n",
    "graph = workflow.compile()\n",
    "\n",
    "from IPython.display import Image, display\n",
    "from langchain_core.runnables.graph import MermaidDrawMethod\n",
    "\n",
    "display(Image(graph.get_graph().draw_mermaid_png(draw_method=MermaidDrawMethod.API)))"
   ]
  },
  {
   "cell_type": "markdown",
   "id": "fd0696e4",
   "metadata": {},
   "source": [
    "### Running and testing the implementation"
   ]
  },
  {
   "cell_type": "code",
   "execution_count": null,
   "id": "2dfdecc0",
   "metadata": {},
   "outputs": [
    {
     "data": {
      "text/plain": [
       "'SQLQuery: SELECT COUNT(\"action\") AS \"close_action_count\" FROM logs WHERE \"date\" = \\'2025-05-16\\' AND \"action\" = \\'close\\';'"
      ]
     },
     "execution_count": 136,
     "metadata": {},
     "output_type": "execute_result"
    }
   ],
   "source": [
    "from langchain.chains import create_sql_query_chain\n",
    "\n",
    "chain = create_sql_query_chain(llm, sql_db)\n",
    "response = chain.invoke({\"question\": \"Ile akcji ( action) ze statusem close było 16.05.2025? \"})\n",
    "response\n",
    "\n"
   ]
  },
  {
   "cell_type": "code",
   "execution_count": null,
   "id": "13154f1a",
   "metadata": {},
   "outputs": [
    {
     "name": "stdout",
     "output_type": "stream",
     "text": [
      "SQLQuery: SELECT COUNT(\"action\") AS \"close_action_count\" FROM logs WHERE \"date\" = '2025-05-16' AND \"action\" = 'close';\n"
     ]
    }
   ],
   "source": [
    "# Let's review it\n",
    "print(response)"
   ]
  },
  {
   "cell_type": "code",
   "execution_count": null,
   "id": "2107d887",
   "metadata": {},
   "outputs": [
    {
     "data": {
      "text/plain": [
       "'SELECT COUNT(\"action\") AS \"close_action_count\" FROM logs WHERE \"date\" = \\'2025-05-16\\' AND \"action\" = \\'close\\';'"
      ]
     },
     "execution_count": 126,
     "metadata": {},
     "output_type": "execute_result"
    }
   ],
   "source": [
    "# Try simple fix\n",
    "response = response.replace(\"SQLQuery: \", \"\").replace(\"```\", \"\").replace(\"\\n\", \"\").replace(\"sql\", \"\")\n",
    "response"
   ]
  },
  {
   "cell_type": "code",
   "execution_count": null,
   "id": "7b7ca105",
   "metadata": {},
   "outputs": [
    {
     "data": {
      "text/plain": [
       "'[(6522,)]'"
      ]
     },
     "execution_count": 127,
     "metadata": {},
     "output_type": "execute_result"
    }
   ],
   "source": [
    "sql_db.run(response)"
   ]
  },
  {
   "cell_type": "code",
   "execution_count": null,
   "id": "aab3e177",
   "metadata": {},
   "outputs": [
    {
     "name": "stdout",
     "output_type": "stream",
     "text": [
      "\n",
      "[START] Testowanie LangGraph:\n",
      "\n",
      "\n",
      "--- [KROK 1] ---\n",
      "HUMAN: Ile czasu zajęło wykonanie akcji ( action) ze statusem close 16.05.2025?\n",
      "[DEBUG] Running agent: Search Agent\n",
      "[DEBUG] Input messages: ['Ile czasu zajęło wykonanie akcji ( action) ze statusem close 16.05.2025?']\n",
      "[DEBUG] Output from Search Agent: \n",
      "\n",
      "--- [KROK 2] ---\n",
      "HUMAN: Ile czasu zajęło wykonanie akcji ( action) ze statusem close 16.05.2025?\n",
      "AI: \n",
      "\n",
      "--- [KROK 3] ---\n",
      "HUMAN: Ile czasu zajęło wykonanie akcji ( action) ze statusem close 16.05.2025?\n",
      "AI: \n",
      "\n",
      "--- [KROK 4] ---\n",
      "HUMAN: Ile czasu zajęło wykonanie akcji ( action) ze statusem close 16.05.2025?\n",
      "AI: \n",
      "AI: Answer in natural language to the prompt\n"
     ]
    }
   ],
   "source": [
    "from langchain_core.messages import HumanMessage, AIMessage\n",
    "\n",
    "print(\"\\n[START] Testowanie LangGraph:\\n\")\n",
    "\n",
    "prompt = \"Ile czasu zajęło wykonanie akcji ( action) ze statusem close 16.05.2025?\"\n",
    "\n",
    "input_data = {\n",
    "    \"messages\": [HumanMessage(content=prompt)],\n",
    "    \"no_of_iterations\": 0\n",
    "}\n",
    "\n",
    "for i, event in enumerate(graph.stream(input_data, stream_mode=\"values\")):\n",
    "    print(f\"\\n--- [KROK {i+1}] ---\")\n",
    "    for msg in event[\"messages\"]:\n",
    "        role = \"HUMAN\" if msg.type == \"human\" else \"AI\"\n",
    "        print(f\"{role}: {msg.content}\")"
   ]
  }
 ],
 "metadata": {
  "kernelspec": {
   "display_name": "Python 3",
   "language": "python",
   "name": "python3"
  },
  "language_info": {
   "codemirror_mode": {
    "name": "ipython",
    "version": 3
   },
   "file_extension": ".py",
   "mimetype": "text/x-python",
   "name": "python",
   "nbconvert_exporter": "python",
   "pygments_lexer": "ipython3",
   "version": "3.11.8"
  }
 },
 "nbformat": 4,
 "nbformat_minor": 5
}
