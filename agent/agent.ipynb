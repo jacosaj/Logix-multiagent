{
 "cells": [
  {
   "cell_type": "markdown",
   "id": "674ad4f8",
   "metadata": {},
   "source": [
    "### Basic imports and setting up OpenAI and Tavily integration\n"
   ]
  },
  {
   "cell_type": "code",
   "execution_count": 1,
   "id": "b1f087ac",
   "metadata": {},
   "outputs": [],
   "source": [
    "import os\n",
    "from langchain_openai import ChatOpenAI\n",
    "from dotenv import load_dotenv\n",
    "\n",
    "load_dotenv()\n",
    "llm = ChatOpenAI(\n",
    "    model_name=\"gpt-4o-mini\",\n",
    "    openai_api_key=os.environ['OPENAI_API_KEY_TEG'],\n",
    "    temperature=0,\n",
    ")\n"
   ]
  },
  {
   "cell_type": "markdown",
   "id": "89f8a091",
   "metadata": {},
   "source": [
    "### Moj własny tool\n"
   ]
  },
  {
   "cell_type": "code",
   "execution_count": 2,
   "id": "c8bdb912",
   "metadata": {},
   "outputs": [],
   "source": [
    "from langchain.tools import Tool\n",
    "\n",
    "def calculate_loss(time_lost_hours, avg_salary_per_hour):\n",
    "    return time_lost_hours * avg_salary_per_hour\n",
    "\n",
    "agent2_tools = [\n",
    "    Tool.from_function(\n",
    "        func=calculate_loss,\n",
    "        name=\"CalculateTimeLoss\",\n",
    "        description=\"Calculates company loss due to wasted time on social media. Inputs: time in hours, average hourly salary.\"\n",
    "    )\n",
    "]\n"
   ]
  },
  {
   "cell_type": "markdown",
   "id": "dc4da3b7",
   "metadata": {},
   "source": [
    "### Definicja Tools"
   ]
  },
  {
   "cell_type": "code",
   "execution_count": 14,
   "id": "80e78c3e",
   "metadata": {},
   "outputs": [],
   "source": [
    "from langchain_community.utilities.sql_database import SQLDatabase\n",
    "from langchain.agents.agent_toolkits import SQLDatabaseToolkit\n",
    "from langchain.tools.tavily_search import TavilySearchResults\n",
    "import os\n",
    "from dotenv import load_dotenv\n",
    "load_dotenv()\n",
    "\n",
    "db_path = r\"C:\\PJATK\\SEMESTR2\\teg projekt\\projekt\\Logi-projektTEG\\parser\\logs.db\"\n",
    "sql_db = SQLDatabase.from_uri(f\"sqlite:///{db_path}\")\n",
    "sql_toolkit = SQLDatabaseToolkit(db=sql_db, llm=llm)  \n",
    "agent1_tools = sql_toolkit.get_tools()\n",
    "tavily = TavilySearchResults(max_results=5)\n",
    "\n",
    "\n",
    "tools = agent1_tools + [tavily] + agent2_tools"
   ]
  },
  {
   "cell_type": "markdown",
   "id": "ec91cc36",
   "metadata": {},
   "source": [
    "### Defining the prompts for each agent role"
   ]
  },
  {
   "cell_type": "code",
   "execution_count": 15,
   "id": "120b27ab",
   "metadata": {},
   "outputs": [],
   "source": [
    "search_template = \"\"\"\n",
    "                  Your job is to translate the following user question into an accurate SQL query based on the given table schema.\n",
    "                  Identify the most relevant columns for answering the query.\n",
    "                  Execute the SQL query and return the result.\n",
    "                  Not permit risky SQL generation (e.g., DROP, DELETE) \n",
    "                  \"\"\"\n",
    "value_template = \"\"\"Your job is to Calculate the financial loss caused by employees spending time on social media.\n",
    "\n",
    "                    Return the estimated total cost of productivity loss.\n",
    "                    Multiply total time lost (in hours) by the average monthly IT salary.\n",
    "                    Your feedback should be in bullet point format only.\n",
    "                    \"\"\"\n",
    "exchange_template = \"\"\"Convert the total company losses into multiple currencies and assets: USD, EUR, GBP, BTC, XAU (gold).\n",
    "                        Use the latest exchange rates for accurate conversion.\n",
    "                        Return the result in a tabular format.\n",
    "                    \"\"\""
   ]
  },
  {
   "cell_type": "markdown",
   "id": "924e3778",
   "metadata": {},
   "source": [
    "### Constructing the graph"
   ]
  },
  {
   "cell_type": "code",
   "execution_count": 16,
   "id": "2678c1eb",
   "metadata": {},
   "outputs": [],
   "source": [
    "from langchain_core.prompts import ChatPromptTemplate, MessagesPlaceholder\n",
    "\n",
    "# Define method for creating agents and binding them to the tools\n",
    "def create_agent(llm, tools, system_message: str):\n",
    "    \"\"\"Create an agent.\"\"\"\n",
    "    prompt = ChatPromptTemplate.from_messages(\n",
    "        [\n",
    "            (\n",
    "                \"system\",\n",
    "                \"{system_message}\",\n",
    "            ),\n",
    "            MessagesPlaceholder(variable_name=\"messages\"),\n",
    "        ]\n",
    "    )\n",
    "    prompt = prompt.partial(system_message=system_message)\n",
    "    \n",
    "    if tools:\n",
    "      return prompt | llm.bind_tools(tools)\n",
    "    else:\n",
    "      return prompt | llm\n",
    "    \n",
    "search_agent = create_agent(\n",
    "    llm,\n",
    "    tools,\n",
    "    system_message=search_template,\n",
    ")\n",
    "\n",
    "value_agent = create_agent(\n",
    "    llm,\n",
    "    tools,\n",
    "    system_message=value_template,\n",
    ")\n",
    "\n",
    "exchange_agent = create_agent(\n",
    "    llm,\n",
    "    tools,\n",
    "    system_message=value_template,\n",
    ")"
   ]
  },
  {
   "cell_type": "code",
   "execution_count": 18,
   "id": "22d7be23",
   "metadata": {},
   "outputs": [],
   "source": [
    "import functools\n",
    "\n",
    "def agent_node(state, agent, name):\n",
    "  result = agent.invoke(state)\n",
    "  return {\n",
    "      'messages': [result]\n",
    "  }\n",
    "\n",
    "search_node = functools.partial(agent_node, agent=search_agent, name=\"Search Agent\")\n",
    "value_node = functools.partial(agent_node, agent=value_agent, name=\"Value Agent\")\n",
    "exchange_node = functools.partial(agent_node, agent=exchange_agent, name=\"Exchange Agent\")\n",
    "\n"
   ]
  }
 ],
 "metadata": {
  "kernelspec": {
   "display_name": "venv",
   "language": "python",
   "name": "python3"
  },
  "language_info": {
   "codemirror_mode": {
    "name": "ipython",
    "version": 3
   },
   "file_extension": ".py",
   "mimetype": "text/x-python",
   "name": "python",
   "nbconvert_exporter": "python",
   "pygments_lexer": "ipython3",
   "version": "3.11.0"
  }
 },
 "nbformat": 4,
 "nbformat_minor": 5
}
