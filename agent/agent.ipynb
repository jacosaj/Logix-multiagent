{
 "cells": [
  {
   "cell_type": "code",
   "execution_count": 2,
   "id": "b1f087ac",
   "metadata": {},
   "outputs": [],
   "source": [
    "import os\n",
    "from langchain_openai import ChatOpenAI\n",
    "from dotenv import load_dotenv\n",
    "\n",
    "load_dotenv()\n",
    "llm = ChatOpenAI(\n",
    "    model_name=\"gpt-4o-mini\",\n",
    "    openai_api_key=os.environ['OPENAI_API_KEY_TEG'],\n",
    "    temperature=0,\n",
    ")\n"
   ]
  },
  {
   "cell_type": "code",
   "execution_count": null,
   "id": "120b27ab",
   "metadata": {},
   "outputs": [],
   "source": [
    "search_template = \"\"\"Your job is to search the web for stock market related news that would be relevant to to generate the article described by the user.\n",
    "\n",
    "                     NOTE: When providing the news articles retrieved to the Outliner, you need to give the Outliner all of the articles you have retrieved that are relevant.\n",
    "                     The format should be:\n",
    "\n",
    "                     1. <article 1>\n",
    "                     2. <article 2>\n",
    "                     ...\n",
    "                  \"\"\"\n",
    "value_template = \"\"\"Your job is to edit an article written by a writer. Please provide constructive critiques so they can improve it for publication.\n",
    "\n",
    "                    ```EDITORIAL GUIDELINES TO FOLLOW```\n",
    "\n",
    "                      - Your feedback should be in bullet point format only.\n",
    "\n",
    "                      - The critiques should only focus on are the use of keywords, the title of the article, and the title of the headers, also make sure they include references.\n",
    "\n",
    "                      - DO NOT not give positive feedback.\n",
    "\n",
    "                      - DO NOT WRITE THE ARTICLE. You should only provide feedback in bullet point format.\n",
    "\n",
    "                      - You should NEVER accept the first draft of the article.\n",
    "\n",
    "\n",
    "                     If you think the article looks good, then simply say DONE.\n",
    "                    \"\"\""
   ]
  },
  {
   "cell_type": "code",
   "execution_count": null,
   "id": "2678c1eb",
   "metadata": {},
   "outputs": [],
   "source": [
    "from langchain_core.prompts import ChatPromptTemplate, MessagesPlaceholder\n",
    "\n",
    "# Define method for creating agents and binding them to the tools\n",
    "def create_agent(llm, tools, system_message: str):\n",
    "    \"\"\"Create an agent.\"\"\"\n",
    "    prompt = ChatPromptTemplate.from_messages(\n",
    "        [\n",
    "            (\n",
    "                \"system\",\n",
    "                \"{system_message}\",\n",
    "            ),\n",
    "            MessagesPlaceholder(variable_name=\"messages\"),\n",
    "        ]\n",
    "    )\n",
    "    prompt = prompt.partial(system_message=system_message)\n",
    "    \n",
    "    if tools:\n",
    "      return prompt | llm.bind_tools(tools)\n",
    "    else:\n",
    "      return prompt | llm\n",
    "    \n",
    "search_agent = create_agent(\n",
    "    llm,\n",
    "    tools,\n",
    "    system_message=search_template,\n",
    ")\n",
    "\n",
    "value_agent = create_agent(\n",
    "    llm,\n",
    "    [],\n",
    "    system_message=value_template,\n",
    ")\n",
    "\n"
   ]
  }
 ],
 "metadata": {
  "kernelspec": {
   "display_name": "venv",
   "language": "python",
   "name": "python3"
  },
  "language_info": {
   "codemirror_mode": {
    "name": "ipython",
    "version": 3
   },
   "file_extension": ".py",
   "mimetype": "text/x-python",
   "name": "python",
   "nbconvert_exporter": "python",
   "pygments_lexer": "ipython3",
   "version": "3.11.0"
  }
 },
 "nbformat": 4,
 "nbformat_minor": 5
}
